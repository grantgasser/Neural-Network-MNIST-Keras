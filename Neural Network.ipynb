{
 "cells": [
  {
   "cell_type": "markdown",
   "metadata": {},
   "source": [
    "# Simple Neural Network for the MNIST dataset"
   ]
  },
  {
   "cell_type": "code",
   "execution_count": 1,
   "metadata": {},
   "outputs": [
    {
     "name": "stderr",
     "output_type": "stream",
     "text": [
      "c:\\python\\envs\\tensorflow\\lib\\site-packages\\h5py\\__init__.py:36: FutureWarning: Conversion of the second argument of issubdtype from `float` to `np.floating` is deprecated. In future, it will be treated as `np.float64 == np.dtype(float).type`.\n",
      "  from ._conv import register_converters as _register_converters\n",
      "Using Theano backend.\n",
      "WARNING (theano.tensor.blas): Using NumPy C-API based implementation for BLAS functions.\n"
     ]
    }
   ],
   "source": [
    "import matplotlib.pyplot as plt\n",
    "import numpy as np\n",
    "import keras, random, math\n",
    "from keras.datasets import mnist\n",
    "from keras.models import Sequential\n",
    "from keras.layers import Dense, Activation, Dropout\n",
    "from keras.regularizers import l2"
   ]
  },
  {
   "cell_type": "markdown",
   "metadata": {},
   "source": [
    "## Load and view data"
   ]
  },
  {
   "cell_type": "code",
   "execution_count": 2,
   "metadata": {},
   "outputs": [],
   "source": [
    "(x_train, y_train), (x_test, y_test) = mnist.load_data()"
   ]
  },
  {
   "cell_type": "code",
   "execution_count": 3,
   "metadata": {},
   "outputs": [
    {
     "name": "stdout",
     "output_type": "stream",
     "text": [
      "Number of images (digits):  60000\n",
      "Dimenions of X:  28 x 28\n"
     ]
    }
   ],
   "source": [
    "print('Number of images (digits): ', x_train.shape[0]) \n",
    "print('Dimenions of X: ', x_train.shape[1], 'x', x_train.shape[2])"
   ]
  },
  {
   "cell_type": "code",
   "execution_count": 4,
   "metadata": {},
   "outputs": [
    {
     "data": {
      "image/png": "[encoded data removed]",
      "text/plain": [
       "<Figure size 432x288 with 1 Axes>"
      ]
     },
     "metadata": {},
     "output_type": "display_data"
    },
    {
     "data": {
      "image/png": "[encoded data removed]",
      "text/plain": [
       "<Figure size 432x288 with 1 Axes>"
      ]
     },
     "metadata": {},
     "output_type": "display_data"
    },
    {
     "data": {
      "image/png": "[encoded data removed]",
      "text/plain": [
       "<Figure size 432x288 with 1 Axes>"
      ]
     },
     "metadata": {},
     "output_type": "display_data"
    }
   ],
   "source": [
    "for i in range(3): \n",
    "    plt.title('LABEL: {label}'.format(label=y_train[i]))\n",
    "    plt.imshow(x_train[i], cmap='gray')\n",
    "    plt.show()"
   ]
  },
  {
   "cell_type": "markdown",
   "metadata": {},
   "source": [
    "## Build Model"
   ]
  },
  {
   "cell_type": "code",
   "execution_count": 5,
   "metadata": {},
   "outputs": [
    {
     "name": "stderr",
     "output_type": "stream",
     "text": [
      "c:\\python\\envs\\tensorflow\\lib\\site-packages\\ipykernel_launcher.py:2: UserWarning: Update your `Dense` call to the Keras 2 API: `Dense(80, input_shape=(784,), kernel_regularizer=<keras.reg...)`\n",
      "  \n"
     ]
    }
   ],
   "source": [
    "# 28x28 = 784\n",
    "model = Sequential([Dense(80, input_shape=(784,), W_regularizer=l2(.005)), \n",
    "                       Activation('relu'),\n",
    "                       Dense(40),\n",
    "                       Activation('relu'),\n",
    "                       Dense(30),\n",
    "                       Activation('relu'),\n",
    "                       Dense(10),\n",
    "                       Activation('softmax'),\n",
    "])\n",
    "\n",
    "model.compile(optimizer='adam', loss='categorical_crossentropy', metrics=['accuracy'])"
   ]
  },
  {
   "cell_type": "markdown",
   "metadata": {},
   "source": [
    "### Re-format data"
   ]
  },
  {
   "cell_type": "code",
   "execution_count": 6,
   "metadata": {},
   "outputs": [],
   "source": [
    "y_train_hot = keras.utils.to_categorical(y_train, num_classes=10)\n",
    "\n",
    "#test if one-hot worked, should have a one in the 6th place to represent 5\n",
    "#y_train_hot[0]\n",
    "\n",
    "x_train_unroll = x_train.reshape(60000, 784)\n",
    "x_test_unroll = x_test.reshape(10000, 784)"
   ]
  },
  {
   "cell_type": "markdown",
   "metadata": {},
   "source": [
    "### Train neural network with training data, 10 iterations through entire dataset"
   ]
  },
  {
   "cell_type": "code",
   "execution_count": 7,
   "metadata": {
    "scrolled": true
   },
   "outputs": [
    {
     "name": "stdout",
     "output_type": "stream",
     "text": [
      "Epoch 1/10\n",
      "60000/60000 [==============================] - 7s 114us/step - loss: 2.6211 - acc: 0.7874\n",
      "Epoch 2/10\n",
      "60000/60000 [==============================] - 10s 158us/step - loss: 0.5274 - acc: 0.9243\n",
      "Epoch 3/10\n",
      "60000/60000 [==============================] - 9s 149us/step - loss: 0.3578 - acc: 0.9408\n",
      "Epoch 4/10\n",
      "60000/60000 [==============================] - 9s 152us/step - loss: 0.2939 - acc: 0.9476\n",
      "Epoch 5/10\n",
      "60000/60000 [==============================] - 10s 161us/step - loss: 0.2639 - acc: 0.9523\n",
      "Epoch 6/10\n",
      "60000/60000 [==============================] - 11s 179us/step - loss: 0.2490 - acc: 0.9550\n",
      "Epoch 7/10\n",
      "60000/60000 [==============================] - 12s 204us/step - loss: 0.2450 - acc: 0.9544\n",
      "Epoch 8/10\n",
      "60000/60000 [==============================] - 15s 242us/step - loss: 0.2358 - acc: 0.9579\n",
      "Epoch 9/10\n",
      "60000/60000 [==============================] - 15s 251us/step - loss: 0.2303 - acc: 0.9588\n",
      "Epoch 10/10\n",
      "60000/60000 [==============================] - 16s 260us/step - loss: 0.2278 - acc: 0.9591\n"
     ]
    },
    {
     "data": {
      "text/plain": [
       "<keras.callbacks.History at 0x1960c8a4208>"
      ]
     },
     "execution_count": 7,
     "metadata": {},
     "output_type": "execute_result"
    }
   ],
   "source": [
    "model.fit(x_train_unroll, y_train_hot, epochs=10)"
   ]
  },
  {
   "cell_type": "markdown",
   "metadata": {},
   "source": [
    "## Use model to make predictions"
   ]
  },
  {
   "cell_type": "code",
   "execution_count": 8,
   "metadata": {},
   "outputs": [],
   "source": [
    "prediction_hot = model.predict(x_test_unroll)\n",
    "prediction = []\n",
    "\n",
    "#convert from one-hot to regular\n",
    "for line in prediction_hot:\n",
    "    prediction.append(np.argmax(line))"
   ]
  },
  {
   "cell_type": "markdown",
   "metadata": {},
   "source": [
    "### View predictions and labels"
   ]
  },
  {
   "cell_type": "code",
   "execution_count": 9,
   "metadata": {},
   "outputs": [
    {
     "name": "stdout",
     "output_type": "stream",
     "text": [
      "PREDICTION:  6\n"
     ]
    },
    {
     "data": {
      "image/png": "[encoded data removed]",
      "text/plain": [
       "<Figure size 432x288 with 1 Axes>"
      ]
     },
     "metadata": {},
     "output_type": "display_data"
    },
    {
     "name": "stdout",
     "output_type": "stream",
     "text": [
      "PREDICTION:  1\n"
     ]
    },
    {
     "data": {
      "image/png": "[encoded data removed]",
      "text/plain": [
       "<Figure size 432x288 with 1 Axes>"
      ]
     },
     "metadata": {},
     "output_type": "display_data"
    },
    {
     "name": "stdout",
     "output_type": "stream",
     "text": [
      "PREDICTION:  1\n"
     ]
    },
    {
     "data": {
      "image/png": "[encoded data removed]",
      "text/plain": [
       "<Figure size 432x288 with 1 Axes>"
      ]
     },
     "metadata": {},
     "output_type": "display_data"
    },
    {
     "name": "stdout",
     "output_type": "stream",
     "text": [
      "PREDICTION:  5\n"
     ]
    },
    {
     "data": {
      "image/png": "[encoded data removed]",
      "text/plain": [
       "<Figure size 432x288 with 1 Axes>"
      ]
     },
     "metadata": {},
     "output_type": "display_data"
    },
    {
     "name": "stdout",
     "output_type": "stream",
     "text": [
      "PREDICTION:  5\n"
     ]
    },
    {
     "data": {
      "image/png": "[encoded data removed]",
      "text/plain": [
       "<Figure size 432x288 with 1 Axes>"
      ]
     },
     "metadata": {},
     "output_type": "display_data"
    }
   ],
   "source": [
    "num = math.ceil(random.uniform(1,9995))\n",
    "\n",
    "for i in range(num, num+5):\n",
    "    print('PREDICTION: ', prediction[i])\n",
    "    plt.title('LABEL: {label}'.format(label=y_test[i]))\n",
    "    plt.imshow(x_test[i], cmap='gray')\n",
    "    plt.show()\n",
    "        "
   ]
  },
  {
   "cell_type": "markdown",
   "metadata": {},
   "source": [
    "### Evaluate model\n",
    "#### Sometimes the common errors are 8 and 5 or 6 and 5"
   ]
  },
  {
   "cell_type": "code",
   "execution_count": 10,
   "metadata": {},
   "outputs": [
    {
     "name": "stdout",
     "output_type": "stream",
     "text": [
      "6 != 5\n",
      "6 != 5\n",
      "6 != 5\n",
      "6 != 5\n",
      "6 != 5\n",
      "6 != 5\n",
      "6 != 5\n",
      "6 != 5\n",
      "6 != 5\n",
      "6 != 5\n",
      "6 != 5\n",
      "6 != 5\n",
      "6 != 5\n",
      "6 != 5\n",
      "6 != 5\n",
      "6 != 5\n",
      "6 != 5\n",
      "6 != 5\n",
      "6 != 5\n",
      "6 != 5\n",
      "6 != 5\n",
      "6 != 5\n",
      "6 != 5\n",
      "6 != 5\n",
      "6 != 5\n",
      "6 != 5\n",
      "6 != 5\n",
      "6 != 5\n",
      "6 != 5\n",
      "6 != 5\n",
      "6 != 5\n",
      "6 != 5\n",
      "6 != 5\n",
      "6 != 5\n",
      "6 != 5\n",
      "6 != 5\n",
      "6 != 5\n",
      "6 != 5\n",
      "6 != 5\n",
      "6 != 5\n",
      "6 != 5\n",
      "6 != 5\n",
      "6 != 5\n",
      "6 != 5\n",
      "6 != 5\n",
      "6 != 5\n",
      "6 != 5\n",
      "6 != 5\n",
      "6 != 5\n",
      "6 != 5\n",
      "6 != 5\n",
      "6 != 5\n",
      "6 != 5\n",
      "6 != 5\n",
      "6 != 5\n",
      "6 != 5\n",
      "6 != 5\n",
      "6 != 5\n",
      "6 != 5\n",
      "6 != 5\n",
      "6 != 5\n",
      "6 != 5\n",
      "6 != 5\n",
      "6 != 5\n",
      "6 != 5\n",
      "6 != 5\n",
      "6 != 5\n",
      "6 != 5\n",
      "6 != 5\n",
      "6 != 5\n",
      "6 != 5\n",
      "6 != 5\n",
      "6 != 5\n",
      "6 != 5\n",
      "6 != 5\n",
      "6 != 5\n",
      "6 != 5\n",
      "6 != 5\n",
      "6 != 5\n",
      "6 != 5\n",
      "6 != 5\n",
      "6 != 5\n",
      "6 != 5\n",
      "6 != 5\n",
      "6 != 5\n",
      "6 != 5\n",
      "6 != 5\n",
      "6 != 5\n",
      "6 != 5\n",
      "6 != 5\n",
      "6 != 5\n",
      "6 != 5\n",
      "6 != 5\n",
      "6 != 5\n",
      "6 != 5\n",
      "6 != 5\n",
      "6 != 5\n",
      "6 != 5\n",
      "6 != 5\n",
      "6 != 5\n",
      "6 != 5\n",
      "6 != 5\n",
      "6 != 5\n",
      "6 != 5\n",
      "6 != 5\n",
      "6 != 5\n",
      "6 != 5\n",
      "6 != 5\n",
      "6 != 5\n",
      "6 != 5\n",
      "6 != 5\n",
      "6 != 5\n",
      "6 != 5\n",
      "6 != 5\n",
      "6 != 5\n",
      "6 != 5\n",
      "6 != 5\n",
      "6 != 5\n",
      "6 != 5\n",
      "6 != 5\n",
      "6 != 5\n",
      "6 != 5\n",
      "6 != 5\n",
      "6 != 5\n",
      "6 != 5\n",
      "6 != 5\n",
      "6 != 5\n",
      "6 != 5\n",
      "6 != 5\n",
      "6 != 5\n",
      "6 != 5\n",
      "6 != 5\n",
      "6 != 5\n",
      "6 != 5\n",
      "6 != 5\n",
      "6 != 5\n",
      "6 != 5\n",
      "6 != 5\n",
      "6 != 5\n",
      "6 != 5\n",
      "6 != 5\n",
      "6 != 5\n",
      "6 != 5\n",
      "6 != 5\n",
      "6 != 5\n",
      "6 != 5\n",
      "6 != 5\n",
      "6 != 5\n",
      "6 != 5\n",
      "6 != 5\n",
      "6 != 5\n",
      "6 != 5\n",
      "6 != 5\n",
      "6 != 5\n",
      "6 != 5\n",
      "6 != 5\n",
      "6 != 5\n",
      "6 != 5\n",
      "6 != 5\n",
      "6 != 5\n",
      "6 != 5\n",
      "6 != 5\n",
      "6 != 5\n",
      "6 != 5\n",
      "6 != 5\n",
      "6 != 5\n",
      "6 != 5\n",
      "6 != 5\n",
      "6 != 5\n",
      "6 != 5\n",
      "6 != 5\n",
      "6 != 5\n",
      "6 != 5\n",
      "6 != 5\n",
      "6 != 5\n",
      "6 != 5\n",
      "6 != 5\n",
      "6 != 5\n",
      "6 != 5\n",
      "6 != 5\n",
      "6 != 5\n",
      "6 != 5\n",
      "6 != 5\n",
      "6 != 5\n",
      "6 != 5\n",
      "6 != 5\n",
      "6 != 5\n",
      "6 != 5\n",
      "6 != 5\n",
      "6 != 5\n",
      "6 != 5\n",
      "6 != 5\n",
      "6 != 5\n",
      "6 != 5\n",
      "6 != 5\n",
      "6 != 5\n",
      "6 != 5\n",
      "6 != 5\n",
      "6 != 5\n",
      "6 != 5\n",
      "6 != 5\n",
      "6 != 5\n",
      "6 != 5\n",
      "6 != 5\n",
      "6 != 5\n",
      "6 != 5\n",
      "6 != 5\n",
      "6 != 5\n",
      "6 != 5\n",
      "6 != 5\n",
      "6 != 5\n",
      "6 != 5\n",
      "6 != 5\n",
      "6 != 5\n",
      "6 != 5\n",
      "6 != 5\n",
      "6 != 5\n",
      "6 != 5\n",
      "6 != 5\n",
      "6 != 5\n",
      "6 != 5\n",
      "6 != 5\n",
      "6 != 5\n",
      "6 != 5\n",
      "6 != 5\n",
      "6 != 5\n",
      "6 != 5\n",
      "6 != 5\n",
      "6 != 5\n",
      "6 != 5\n",
      "6 != 5\n",
      "6 != 5\n",
      "6 != 5\n",
      "6 != 5\n",
      "6 != 5\n",
      "6 != 5\n",
      "6 != 5\n",
      "6 != 5\n",
      "6 != 5\n",
      "6 != 5\n",
      "6 != 5\n",
      "6 != 5\n",
      "6 != 5\n",
      "6 != 5\n",
      "6 != 5\n",
      "6 != 5\n",
      "6 != 5\n",
      "6 != 5\n",
      "6 != 5\n",
      "6 != 5\n",
      "6 != 5\n",
      "6 != 5\n",
      "6 != 5\n",
      "6 != 5\n",
      "6 != 5\n",
      "6 != 5\n",
      "6 != 5\n",
      "6 != 5\n",
      "6 != 5\n",
      "6 != 5\n",
      "6 != 5\n",
      "6 != 5\n",
      "6 != 5\n",
      "6 != 5\n",
      "6 != 5\n",
      "6 != 5\n",
      "6 != 5\n",
      "6 != 5\n",
      "6 != 5\n",
      "6 != 5\n",
      "6 != 5\n",
      "6 != 5\n",
      "6 != 5\n",
      "6 != 5\n",
      "6 != 5\n",
      "6 != 5\n",
      "6 != 5\n",
      "6 != 5\n",
      "6 != 5\n",
      "6 != 5\n",
      "6 != 5\n",
      "6 != 5\n",
      "6 != 5\n",
      "6 != 5\n",
      "6 != 5\n",
      "6 != 5\n",
      "6 != 5\n",
      "6 != 5\n",
      "6 != 5\n",
      "6 != 5\n",
      "6 != 5\n",
      "6 != 5\n",
      "6 != 5\n",
      "6 != 5\n",
      "6 != 5\n",
      "6 != 5\n",
      "6 != 5\n",
      "6 != 5\n",
      "6 != 5\n",
      "6 != 5\n",
      "6 != 5\n",
      "6 != 5\n",
      "6 != 5\n",
      "6 != 5\n",
      "6 != 5\n",
      "6 != 5\n",
      "6 != 5\n",
      "6 != 5\n",
      "6 != 5\n",
      "6 != 5\n",
      "6 != 5\n",
      "6 != 5\n",
      "6 != 5\n",
      "6 != 5\n",
      "6 != 5\n",
      "6 != 5\n",
      "6 != 5\n",
      "6 != 5\n",
      "6 != 5\n",
      "6 != 5\n",
      "6 != 5\n",
      "6 != 5\n",
      "6 != 5\n",
      "6 != 5\n",
      "6 != 5\n",
      "6 != 5\n",
      "6 != 5\n",
      "6 != 5\n",
      "6 != 5\n",
      "6 != 5\n",
      "6 != 5\n",
      "6 != 5\n",
      "6 != 5\n",
      "6 != 5\n",
      "6 != 5\n",
      "6 != 5\n",
      "6 != 5\n",
      "6 != 5\n",
      "6 != 5\n",
      "6 != 5\n",
      "6 != 5\n",
      "6 != 5\n",
      "6 != 5\n",
      "6 != 5\n",
      "6 != 5\n",
      "6 != 5\n",
      "6 != 5\n",
      "6 != 5\n",
      "6 != 5\n",
      "6 != 5\n",
      "6 != 5\n",
      "6 != 5\n",
      "6 != 5\n",
      "6 != 5\n",
      "6 != 5\n",
      "6 != 5\n",
      "6 != 5\n",
      "6 != 5\n",
      "6 != 5\n",
      "6 != 5\n",
      "6 != 5\n",
      "6 != 5\n",
      "6 != 5\n",
      "6 != 5\n",
      "6 != 5\n",
      "6 != 5\n",
      "6 != 5\n",
      "6 != 5\n",
      "6 != 5\n",
      "6 != 5\n",
      "6 != 5\n",
      "6 != 5\n",
      "6 != 5\n",
      "6 != 5\n",
      "6 != 5\n",
      "6 != 5\n",
      "6 != 5\n",
      "6 != 5\n",
      "6 != 5\n",
      "6 != 5\n",
      "6 != 5\n",
      "6 != 5\n",
      "6 != 5\n",
      "6 != 5\n",
      "6 != 5\n",
      "6 != 5\n",
      "6 != 5\n",
      "6 != 5\n",
      "6 != 5\n",
      "6 != 5\n",
      "6 != 5\n",
      "6 != 5\n",
      "6 != 5\n",
      "6 != 5\n",
      "6 != 5\n",
      "6 != 5\n",
      "6 != 5\n",
      "6 != 5\n",
      "6 != 5\n",
      "6 != 5\n",
      "6 != 5\n",
      "6 != 5\n",
      "6 != 5\n",
      "6 != 5\n",
      "6 != 5\n",
      "6 != 5\n",
      "6 != 5\n",
      "6 != 5\n",
      "6 != 5\n",
      "6 != 5\n",
      "6 != 5\n",
      "6 != 5\n",
      "6 != 5\n",
      "6 != 5\n",
      "6 != 5\n",
      "6 != 5\n",
      "6 != 5\n",
      "6 != 5\n",
      "6 != 5\n",
      "6 != 5\n",
      "6 != 5\n",
      "6 != 5\n",
      "6 != 5\n",
      "6 != 5\n",
      "6 != 5\n",
      "6 != 5\n",
      "6 != 5\n",
      "6 != 5\n",
      "6 != 5\n",
      "6 != 5\n",
      "6 != 5\n",
      "6 != 5\n",
      "6 != 5\n",
      "6 != 5\n",
      "6 != 5\n",
      "6 != 5\n",
      "6 != 5\n",
      "6 != 5\n",
      "6 != 5\n",
      "6 != 5\n",
      "6 != 5\n",
      "6 != 5\n",
      "6 != 5\n",
      "6 != 5\n",
      "6 != 5\n",
      "6 != 5\n",
      "6 != 5\n",
      "6 != 5\n",
      "6 != 5\n",
      "6 != 5\n",
      "6 != 5\n",
      "6 != 5\n",
      "6 != 5\n",
      "6 != 5\n",
      "6 != 5\n",
      "6 != 5\n",
      "6 != 5\n",
      "6 != 5\n",
      "6 != 5\n",
      "6 != 5\n",
      "6 != 5\n",
      "6 != 5\n",
      "6 != 5\n",
      "6 != 5\n",
      "6 != 5\n",
      "6 != 5\n",
      "6 != 5\n",
      "6 != 5\n",
      "6 != 5\n",
      "6 != 5\n",
      "6 != 5\n",
      "6 != 5\n",
      "6 != 5\n",
      "6 != 5\n",
      "6 != 5\n",
      "6 != 5\n",
      "6 != 5\n",
      "6 != 5\n",
      "6 != 5\n",
      "6 != 5\n",
      "6 != 5\n",
      "6 != 5\n",
      "6 != 5\n",
      "6 != 5\n",
      "6 != 5\n",
      "6 != 5\n",
      "6 != 5\n",
      "6 != 5\n",
      "6 != 5\n",
      "6 != 5\n",
      "6 != 5\n",
      "6 != 5\n",
      "6 != 5\n",
      "6 != 5\n",
      "6 != 5\n",
      "6 != 5\n",
      "6 != 5\n",
      "6 != 5\n",
      "6 != 5\n",
      "6 != 5\n",
      "6 != 5\n",
      "6 != 5\n",
      "6 != 5\n",
      "6 != 5\n",
      "6 != 5\n",
      "6 != 5\n",
      "6 != 5\n",
      "6 != 5\n",
      "6 != 5\n",
      "6 != 5\n",
      "6 != 5\n",
      "6 != 5\n",
      "6 != 5\n",
      "6 != 5\n",
      "6 != 5\n",
      "6 != 5\n",
      "6 != 5\n",
      "6 != 5\n",
      "6 != 5\n",
      "6 != 5\n",
      "6 != 5\n",
      "6 != 5\n",
      "6 != 5\n",
      "6 != 5\n",
      "6 != 5\n",
      "6 != 5\n",
      "6 != 5\n",
      "6 != 5\n",
      "6 != 5\n",
      "6 != 5\n",
      "6 != 5\n",
      "6 != 5\n",
      "6 != 5\n",
      "6 != 5\n",
      "6 != 5\n",
      "6 != 5\n",
      "6 != 5\n",
      "6 != 5\n",
      "6 != 5\n",
      "6 != 5\n",
      "6 != 5\n",
      "6 != 5\n",
      "6 != 5\n",
      "6 != 5\n",
      "6 != 5\n",
      "6 != 5\n",
      "6 != 5\n",
      "6 != 5\n",
      "6 != 5\n",
      "6 != 5\n",
      "6 != 5\n",
      "6 != 5\n",
      "6 != 5\n",
      "6 != 5\n",
      "6 != 5\n",
      "6 != 5\n",
      "6 != 5\n",
      "6 != 5\n",
      "6 != 5\n",
      "6 != 5\n",
      "6 != 5\n",
      "6 != 5\n",
      "6 != 5\n",
      "6 != 5\n",
      "6 != 5\n",
      "6 != 5\n",
      "6 != 5\n",
      "6 != 5\n",
      "6 != 5\n",
      "6 != 5\n",
      "6 != 5\n",
      "6 != 5\n",
      "6 != 5\n",
      "6 != 5\n",
      "6 != 5\n",
      "6 != 5\n",
      "6 != 5\n",
      "6 != 5\n",
      "6 != 5\n",
      "6 != 5\n",
      "6 != 5\n",
      "6 != 5\n",
      "6 != 5\n",
      "6 != 5\n",
      "6 != 5\n",
      "6 != 5\n",
      "6 != 5\n",
      "6 != 5\n",
      "6 != 5\n",
      "6 != 5\n",
      "6 != 5\n",
      "6 != 5\n",
      "6 != 5\n",
      "6 != 5\n",
      "6 != 5\n",
      "6 != 5\n",
      "6 != 5\n",
      "6 != 5\n",
      "6 != 5\n",
      "6 != 5\n",
      "6 != 5\n",
      "6 != 5\n",
      "6 != 5\n",
      "6 != 5\n",
      "6 != 5\n",
      "6 != 5\n",
      "6 != 5\n",
      "6 != 5\n",
      "6 != 5\n",
      "6 != 5\n",
      "6 != 5\n",
      "6 != 5\n",
      "6 != 5\n",
      "6 != 5\n",
      "6 != 5\n",
      "6 != 5\n",
      "6 != 5\n",
      "6 != 5\n",
      "6 != 5\n",
      "6 != 5\n",
      "6 != 5\n",
      "6 != 5\n",
      "6 != 5\n",
      "6 != 5\n",
      "6 != 5\n",
      "6 != 5\n",
      "6 != 5\n",
      "6 != 5\n",
      "6 != 5\n",
      "6 != 5\n",
      "6 != 5\n",
      "6 != 5\n",
      "6 != 5\n",
      "6 != 5\n",
      "6 != 5\n",
      "6 != 5\n",
      "6 != 5\n",
      "6 != 5\n",
      "6 != 5\n",
      "6 != 5\n",
      "6 != 5\n",
      "6 != 5\n",
      "6 != 5\n",
      "6 != 5\n",
      "6 != 5\n",
      "6 != 5\n",
      "6 != 5\n",
      "6 != 5\n",
      "6 != 5\n",
      "6 != 5\n",
      "6 != 5\n",
      "6 != 5\n",
      "6 != 5\n",
      "6 != 5\n",
      "6 != 5\n",
      "6 != 5\n",
      "6 != 5\n",
      "6 != 5\n",
      "6 != 5\n",
      "6 != 5\n",
      "6 != 5\n",
      "6 != 5\n",
      "6 != 5\n",
      "6 != 5\n",
      "6 != 5\n",
      "6 != 5\n",
      "6 != 5\n",
      "6 != 5\n",
      "6 != 5\n",
      "6 != 5\n",
      "6 != 5\n",
      "6 != 5\n",
      "6 != 5\n",
      "6 != 5\n",
      "6 != 5\n",
      "6 != 5\n",
      "6 != 5\n",
      "6 != 5\n",
      "6 != 5\n",
      "6 != 5\n",
      "6 != 5\n",
      "6 != 5\n",
      "6 != 5\n",
      "6 != 5\n",
      "6 != 5\n",
      "6 != 5\n",
      "6 != 5\n",
      "6 != 5\n",
      "6 != 5\n",
      "6 != 5\n",
      "6 != 5\n",
      "6 != 5\n",
      "6 != 5\n",
      "6 != 5\n",
      "6 != 5\n",
      "6 != 5\n",
      "6 != 5\n",
      "6 != 5\n",
      "6 != 5\n",
      "6 != 5\n",
      "6 != 5\n",
      "6 != 5\n",
      "6 != 5\n",
      "6 != 5\n",
      "6 != 5\n",
      "6 != 5\n",
      "6 != 5\n",
      "6 != 5\n",
      "6 != 5\n",
      "6 != 5\n",
      "6 != 5\n",
      "6 != 5\n",
      "6 != 5\n",
      "6 != 5\n",
      "6 != 5\n",
      "6 != 5\n",
      "6 != 5\n",
      "6 != 5\n",
      "6 != 5\n",
      "6 != 5\n",
      "6 != 5\n",
      "6 != 5\n",
      "6 != 5\n",
      "6 != 5\n",
      "6 != 5\n",
      "6 != 5\n",
      "6 != 5\n",
      "6 != 5\n",
      "6 != 5\n",
      "6 != 5\n",
      "6 != 5\n",
      "6 != 5\n",
      "6 != 5\n",
      "6 != 5\n",
      "6 != 5\n",
      "6 != 5\n",
      "6 != 5\n",
      "6 != 5\n",
      "6 != 5\n",
      "6 != 5\n",
      "6 != 5\n",
      "6 != 5\n",
      "6 != 5\n",
      "6 != 5\n",
      "6 != 5\n",
      "6 != 5\n",
      "6 != 5\n",
      "6 != 5\n",
      "6 != 5\n",
      "6 != 5\n",
      "6 != 5\n",
      "6 != 5\n",
      "6 != 5\n",
      "6 != 5\n",
      "6 != 5\n",
      "6 != 5\n",
      "6 != 5\n",
      "6 != 5\n",
      "6 != 5\n",
      "6 != 5\n",
      "6 != 5\n",
      "6 != 5\n",
      "6 != 5\n",
      "6 != 5\n",
      "6 != 5\n",
      "6 != 5\n",
      "6 != 5\n",
      "6 != 5\n",
      "6 != 5\n",
      "6 != 5\n",
      "6 != 5\n",
      "6 != 5\n",
      "6 != 5\n",
      "6 != 5\n",
      "6 != 5\n",
      "6 != 5\n",
      "6 != 5\n",
      "6 != 5\n",
      "6 != 5\n",
      "6 != 5\n",
      "6 != 5\n",
      "6 != 5\n",
      "6 != 5\n",
      "6 != 5\n",
      "6 != 5\n",
      "6 != 5\n",
      "6 != 5\n",
      "6 != 5\n",
      "6 != 5\n",
      "6 != 5\n",
      "6 != 5\n",
      "6 != 5\n",
      "6 != 5\n",
      "6 != 5\n",
      "6 != 5\n",
      "6 != 5\n",
      "6 != 5\n",
      "6 != 5\n",
      "6 != 5\n",
      "6 != 5\n",
      "6 != 5\n",
      "6 != 5\n",
      "6 != 5\n",
      "6 != 5\n",
      "6 != 5\n",
      "6 != 5\n",
      "6 != 5\n",
      "6 != 5\n",
      "6 != 5\n",
      "6 != 5\n",
      "6 != 5\n",
      "6 != 5\n",
      "6 != 5\n",
      "6 != 5\n",
      "6 != 5\n",
      "6 != 5\n",
      "6 != 5\n",
      "6 != 5\n",
      "6 != 5\n",
      "6 != 5\n",
      "6 != 5\n",
      "6 != 5\n",
      "6 != 5\n",
      "6 != 5\n",
      "6 != 5\n",
      "6 != 5\n",
      "6 != 5\n",
      "6 != 5\n",
      "6 != 5\n",
      "6 != 5\n",
      "6 != 5\n",
      "6 != 5\n",
      "6 != 5\n",
      "6 != 5\n",
      "6 != 5\n",
      "6 != 5\n",
      "6 != 5\n",
      "6 != 5\n",
      "6 != 5\n",
      "6 != 5\n",
      "6 != 5\n",
      "6 != 5\n",
      "6 != 5\n",
      "6 != 5\n",
      "6 != 5\n",
      "6 != 5\n",
      "6 != 5\n",
      "6 != 5\n",
      "6 != 5\n",
      "6 != 5\n",
      "6 != 5\n",
      "6 != 5\n",
      "6 != 5\n",
      "6 != 5\n",
      "6 != 5\n",
      "6 != 5\n",
      "6 != 5\n",
      "6 != 5\n",
      "6 != 5\n",
      "6 != 5\n",
      "6 != 5\n",
      "6 != 5\n",
      "6 != 5\n",
      "6 != 5\n",
      "6 != 5\n",
      "6 != 5\n",
      "6 != 5\n",
      "6 != 5\n",
      "6 != 5\n",
      "6 != 5\n",
      "6 != 5\n",
      "6 != 5\n",
      "6 != 5\n",
      "6 != 5\n",
      "6 != 5\n",
      "6 != 5\n",
      "6 != 5\n",
      "6 != 5\n",
      "6 != 5\n",
      "6 != 5\n",
      "6 != 5\n",
      "6 != 5\n",
      "6 != 5\n",
      "6 != 5\n",
      "6 != 5\n",
      "6 != 5\n",
      "6 != 5\n",
      "6 != 5\n",
      "6 != 5\n",
      "6 != 5\n",
      "6 != 5\n",
      "6 != 5\n",
      "6 != 5\n",
      "6 != 5\n",
      "6 != 5\n",
      "6 != 5\n",
      "6 != 5\n",
      "6 != 5\n",
      "6 != 5\n",
      "6 != 5\n",
      "6 != 5\n",
      "6 != 5\n",
      "6 != 5\n",
      "6 != 5\n",
      "6 != 5\n",
      "6 != 5\n",
      "6 != 5\n",
      "6 != 5\n",
      "6 != 5\n",
      "6 != 5\n",
      "6 != 5\n",
      "6 != 5\n",
      "6 != 5\n",
      "6 != 5\n",
      "6 != 5\n",
      "6 != 5\n",
      "6 != 5\n",
      "6 != 5\n",
      "6 != 5\n",
      "6 != 5\n",
      "6 != 5\n",
      "6 != 5\n",
      "6 != 5\n",
      "6 != 5\n",
      "6 != 5\n",
      "6 != 5\n",
      "6 != 5\n",
      "6 != 5\n",
      "6 != 5\n",
      "6 != 5\n",
      "6 != 5\n",
      "6 != 5\n",
      "6 != 5\n",
      "6 != 5\n",
      "6 != 5\n",
      "6 != 5\n",
      "6 != 5\n",
      "6 != 5\n",
      "6 != 5\n",
      "6 != 5\n",
      "6 != 5\n",
      "6 != 5\n",
      "6 != 5\n",
      "6 != 5\n",
      "6 != 5\n",
      "6 != 5\n",
      "6 != 5\n",
      "6 != 5\n",
      "6 != 5\n",
      "6 != 5\n",
      "6 != 5\n",
      "6 != 5\n",
      "6 != 5\n",
      "6 != 5\n",
      "6 != 5\n",
      "6 != 5\n",
      "6 != 5\n",
      "6 != 5\n",
      "6 != 5\n",
      "6 != 5\n",
      "6 != 5\n",
      "6 != 5\n",
      "6 != 5\n",
      "6 != 5\n",
      "6 != 5\n",
      "6 != 5\n",
      "6 != 5\n",
      "6 != 5\n",
      "6 != 5\n",
      "6 != 5\n",
      "6 != 5\n",
      "6 != 5\n",
      "6 != 5\n",
      "6 != 5\n",
      "6 != 5\n",
      "6 != 5\n",
      "6 != 5\n",
      "6 != 5\n",
      "6 != 5\n",
      "6 != 5\n",
      "6 != 5\n",
      "6 != 5\n",
      "6 != 5\n",
      "6 != 5\n",
      "6 != 5\n",
      "6 != 5\n",
      "6 != 5\n",
      "6 != 5\n",
      "6 != 5\n",
      "6 != 5\n",
      "6 != 5\n",
      "6 != 5\n",
      "6 != 5\n",
      "6 != 5\n",
      "6 != 5\n",
      "6 != 5\n",
      "6 != 5\n",
      "6 != 5\n",
      "6 != 5\n",
      "6 != 5\n",
      "6 != 5\n",
      "6 != 5\n",
      "6 != 5\n",
      "6 != 5\n",
      "6 != 5\n",
      "6 != 5\n",
      "6 != 5\n",
      "6 != 5\n",
      "6 != 5\n",
      "6 != 5\n",
      "6 != 5\n",
      "6 != 5\n",
      "6 != 5\n",
      "6 != 5\n",
      "6 != 5\n",
      "6 != 5\n",
      "6 != 5\n",
      "6 != 5\n",
      "6 != 5\n",
      "6 != 5\n",
      "6 != 5\n",
      "6 != 5\n",
      "6 != 5\n",
      "6 != 5\n",
      "6 != 5\n",
      "6 != 5\n",
      "6 != 5\n",
      "6 != 5\n",
      "6 != 5\n",
      "6 != 5\n",
      "6 != 5\n",
      "6 != 5\n",
      "6 != 5\n",
      "6 != 5\n",
      "6 != 5\n",
      "6 != 5\n",
      "6 != 5\n",
      "6 != 5\n"
     ]
    }
   ],
   "source": [
    "correct = 0\n",
    "incorrect = 0\n",
    "\n",
    "for i in prediction:\n",
    "    if prediction[i] == y_test[i]:\n",
    "        correct += 1\n",
    "    else:\n",
    "        incorrect += 1\n",
    "        print(prediction[i], '!=', y_test[i])\n",
    "\n",
    "accuracy = correct / y_test.shape[0]"
   ]
  },
  {
   "cell_type": "code",
   "execution_count": 11,
   "metadata": {},
   "outputs": [
    {
     "name": "stdout",
     "output_type": "stream",
     "text": [
      "8962\n",
      " Test Prediction Accuracy:  89.62 %\n"
     ]
    }
   ],
   "source": [
    "print(correct)\n",
    "print(' Test Prediction Accuracy: ', accuracy * 100, '%')"
   ]
  },
  {
   "cell_type": "markdown",
   "metadata": {},
   "source": [
    "### Inspect most common error"
   ]
  },
  {
   "cell_type": "code",
   "execution_count": 12,
   "metadata": {},
   "outputs": [
    {
     "name": "stdout",
     "output_type": "stream",
     "text": [
      "PREDICTION:  6\n"
     ]
    },
    {
     "data": {
      "image/png": "[encoded data removed]",
      "text/plain": [
       "<Figure size 432x288 with 1 Axes>"
      ]
     },
     "metadata": {},
     "output_type": "display_data"
    },
    {
     "name": "stdout",
     "output_type": "stream",
     "text": [
      "PREDICTION:  6\n"
     ]
    },
    {
     "data": {
      "image/png": "[encoded data removed]",
      "text/plain": [
       "<Figure size 432x288 with 1 Axes>"
      ]
     },
     "metadata": {},
     "output_type": "display_data"
    },
    {
     "name": "stdout",
     "output_type": "stream",
     "text": [
      "PREDICTION:  6\n"
     ]
    },
    {
     "data": {
      "image/png": "[encoded data removed]",
      "text/plain": [
       "<Figure size 432x288 with 1 Axes>"
      ]
     },
     "metadata": {},
     "output_type": "display_data"
    },
    {
     "name": "stdout",
     "output_type": "stream",
     "text": [
      "PREDICTION:  6\n"
     ]
    },
    {
     "data": {
      "image/png": "[encoded data removed]",
      "text/plain": [
       "<Figure size 432x288 with 1 Axes>"
      ]
     },
     "metadata": {},
     "output_type": "display_data"
    },
    {
     "name": "stdout",
     "output_type": "stream",
     "text": [
      "PREDICTION:  6\n"
     ]
    },
    {
     "data": {
      "image/png": "[encoded data removed]",
      "text/plain": [
       "<Figure size 432x288 with 1 Axes>"
      ]
     },
     "metadata": {},
     "output_type": "display_data"
    },
    {
     "name": "stdout",
     "output_type": "stream",
     "text": [
      "PREDICTION:  6\n"
     ]
    },
    {
     "data": {
      "image/png": "[encoded data removed]",
      "text/plain": [
       "<Figure size 432x288 with 1 Axes>"
      ]
     },
     "metadata": {},
     "output_type": "display_data"
    },
    {
     "name": "stdout",
     "output_type": "stream",
     "text": [
      "PREDICTION:  6\n"
     ]
    },
    {
     "data": {
      "image/png": "[encoded data removed]",
      "text/plain": [
       "<Figure size 432x288 with 1 Axes>"
      ]
     },
     "metadata": {},
     "output_type": "display_data"
    },
    {
     "name": "stdout",
     "output_type": "stream",
     "text": [
      "PREDICTION:  6\n"
     ]
    },
    {
     "data": {
      "image/png": "[encoded data removed]",
      "text/plain": [
       "<Figure size 432x288 with 1 Axes>"
      ]
     },
     "metadata": {},
     "output_type": "display_data"
    },
    {
     "name": "stdout",
     "output_type": "stream",
     "text": [
      "PREDICTION:  6\n"
     ]
    },
    {
     "data": {
      "image/png": "[encoded data removed]",
      "text/plain": [
       "<Figure size 432x288 with 1 Axes>"
      ]
     },
     "metadata": {},
     "output_type": "display_data"
    },
    {
     "name": "stdout",
     "output_type": "stream",
     "text": [
      "PREDICTION:  6\n"
     ]
    },
    {
     "data": {
      "image/png": "[encoded data removed]",
      "text/plain": [
       "<Figure size 432x288 with 1 Axes>"
      ]
     },
     "metadata": {},
     "output_type": "display_data"
    },
    {
     "name": "stdout",
     "output_type": "stream",
     "text": [
      "PREDICTION:  6\n"
     ]
    },
    {
     "data": {
      "image/png": "[encoded data removed]",
      "text/plain": [
       "<Figure size 432x288 with 1 Axes>"
      ]
     },
     "metadata": {},
     "output_type": "display_data"
    },
    {
     "name": "stdout",
     "output_type": "stream",
     "text": [
      "PREDICTION:  6\n"
     ]
    },
    {
     "data": {
      "image/png": "[encoded data removed]",
      "text/plain": [
       "<Figure size 432x288 with 1 Axes>"
      ]
     },
     "metadata": {},
     "output_type": "display_data"
    },
    {
     "name": "stdout",
     "output_type": "stream",
     "text": [
      "PREDICTION:  6\n"
     ]
    },
    {
     "data": {
      "image/png": "[encoded data removed]",
      "text/plain": [
       "<Figure size 432x288 with 1 Axes>"
      ]
     },
     "metadata": {},
     "output_type": "display_data"
    },
    {
     "name": "stdout",
     "output_type": "stream",
     "text": [
      "PREDICTION:  6\n"
     ]
    },
    {
     "data": {
      "image/png": "[encoded data removed]",
      "text/plain": [
       "<Figure size 432x288 with 1 Axes>"
      ]
     },
     "metadata": {},
     "output_type": "display_data"
    },
    {
     "name": "stdout",
     "output_type": "stream",
     "text": [
      "PREDICTION:  6\n"
     ]
    },
    {
     "data": {
      "image/png": "[encoded data removed]",
      "text/plain": [
       "<Figure size 432x288 with 1 Axes>"
      ]
     },
     "metadata": {},
     "output_type": "display_data"
    },
    {
     "name": "stdout",
     "output_type": "stream",
     "text": [
      "PREDICTION:  6\n"
     ]
    },
    {
     "data": {
      "image/png": "[encoded data removed]",
      "text/plain": [
       "<Figure size 432x288 with 1 Axes>"
      ]
     },
     "metadata": {},
     "output_type": "display_data"
    },
    {
     "name": "stdout",
     "output_type": "stream",
     "text": [
      "PREDICTION:  6\n"
     ]
    },
    {
     "data": {
      "image/png": "[encoded data removed]",
      "text/plain": [
       "<Figure size 432x288 with 1 Axes>"
      ]
     },
     "metadata": {},
     "output_type": "display_data"
    },
    {
     "name": "stdout",
     "output_type": "stream",
     "text": [
      "PREDICTION:  6\n"
     ]
    },
    {
     "data": {
      "image/png": "[encoded data removed]",
      "text/plain": [
       "<Figure size 432x288 with 1 Axes>"
      ]
     },
     "metadata": {},
     "output_type": "display_data"
    },
    {
     "name": "stdout",
     "output_type": "stream",
     "text": [
      "PREDICTION:  6\n"
     ]
    },
    {
     "data": {
      "image/png": "[encoded data removed]",
      "text/plain": [
       "<Figure size 432x288 with 1 Axes>"
      ]
     },
     "metadata": {},
     "output_type": "display_data"
    },
    {
     "name": "stdout",
     "output_type": "stream",
     "text": [
      "PREDICTION:  6\n"
     ]
    },
    {
     "data": {
      "image/png": "[encoded data removed]",
      "text/plain": [
       "<Figure size 432x288 with 1 Axes>"
      ]
     },
     "metadata": {},
     "output_type": "display_data"
    },
    {
     "name": "stdout",
     "output_type": "stream",
     "text": [
      "PREDICTION:  6\n"
     ]
    },
    {
     "data": {
      "image/png": "[encoded data removed]",
      "text/plain": [
       "<Figure size 432x288 with 1 Axes>"
      ]
     },
     "metadata": {},
     "output_type": "display_data"
    },
    {
     "name": "stdout",
     "output_type": "stream",
     "text": [
      "PREDICTION:  6\n"
     ]
    },
    {
     "data": {
      "image/png": "[encoded data removed]",
      "text/plain": [
       "<Figure size 432x288 with 1 Axes>"
      ]
     },
     "metadata": {},
     "output_type": "display_data"
    },
    {
     "name": "stdout",
     "output_type": "stream",
     "text": [
      "PREDICTION:  6\n"
     ]
    },
    {
     "data": {
      "image/png": "[encoded data removed]",
      "text/plain": [
       "<Figure size 432x288 with 1 Axes>"
      ]
     },
     "metadata": {},
     "output_type": "display_data"
    },
    {
     "name": "stdout",
     "output_type": "stream",
     "text": [
      "PREDICTION:  6\n"
     ]
    },
    {
     "data": {
      "image/png": "[encoded data removed]",
      "text/plain": [
       "<Figure size 432x288 with 1 Axes>"
      ]
     },
     "metadata": {},
     "output_type": "display_data"
    },
    {
     "name": "stdout",
     "output_type": "stream",
     "text": [
      "PREDICTION:  6\n"
     ]
    },
    {
     "data": {
      "image/png": "[encoded data removed]",
      "text/plain": [
       "<Figure size 432x288 with 1 Axes>"
      ]
     },
     "metadata": {},
     "output_type": "display_data"
    },
    {
     "name": "stdout",
     "output_type": "stream",
     "text": [
      "PREDICTION:  6\n"
     ]
    },
    {
     "data": {
      "image/png": "[encoded data removed]",
      "text/plain": [
       "<Figure size 432x288 with 1 Axes>"
      ]
     },
     "metadata": {},
     "output_type": "display_data"
    },
    {
     "name": "stdout",
     "output_type": "stream",
     "text": [
      "PREDICTION:  6\n"
     ]
    },
    {
     "data": {
      "image/png": "[encoded data removed]",
      "text/plain": [
       "<Figure size 432x288 with 1 Axes>"
      ]
     },
     "metadata": {},
     "output_type": "display_data"
    },
    {
     "name": "stdout",
     "output_type": "stream",
     "text": [
      "PREDICTION:  6\n"
     ]
    },
    {
     "data": {
      "image/png": "[encoded data removed]",
      "text/plain": [
       "<Figure size 432x288 with 1 Axes>"
      ]
     },
     "metadata": {},
     "output_type": "display_data"
    },
    {
     "name": "stdout",
     "output_type": "stream",
     "text": [
      "PREDICTION:  6\n"
     ]
    },
    {
     "data": {
      "image/png": "[encoded data removed]",
      "text/plain": [
       "<Figure size 432x288 with 1 Axes>"
      ]
     },
     "metadata": {},
     "output_type": "display_data"
    },
    {
     "name": "stdout",
     "output_type": "stream",
     "text": [
      "PREDICTION:  6\n"
     ]
    },
    {
     "data": {
      "image/png": "[encoded data removed]",
      "text/plain": [
       "<Figure size 432x288 with 1 Axes>"
      ]
     },
     "metadata": {},
     "output_type": "display_data"
    },
    {
     "name": "stdout",
     "output_type": "stream",
     "text": [
      "PREDICTION:  6\n"
     ]
    },
    {
     "data": {
      "image/png": "[encoded data removed]",
      "text/plain": [
       "<Figure size 432x288 with 1 Axes>"
      ]
     },
     "metadata": {},
     "output_type": "display_data"
    },
    {
     "name": "stdout",
     "output_type": "stream",
     "text": [
      "PREDICTION:  6\n"
     ]
    },
    {
     "data": {
      "image/png": "[encoded data removed]",
      "text/plain": [
       "<Figure size 432x288 with 1 Axes>"
      ]
     },
     "metadata": {},
     "output_type": "display_data"
    },
    {
     "name": "stdout",
     "output_type": "stream",
     "text": [
      "PREDICTION:  6\n"
     ]
    },
    {
     "data": {
      "image/png": "[encoded data removed]",
      "text/plain": [
       "<Figure size 432x288 with 1 Axes>"
      ]
     },
     "metadata": {},
     "output_type": "display_data"
    },
    {
     "name": "stdout",
     "output_type": "stream",
     "text": [
      "PREDICTION:  6\n"
     ]
    },
    {
     "data": {
      "image/png": "[encoded data removed]",
      "text/plain": [
       "<Figure size 432x288 with 1 Axes>"
      ]
     },
     "metadata": {},
     "output_type": "display_data"
    },
    {
     "name": "stdout",
     "output_type": "stream",
     "text": [
      "PREDICTION:  6\n"
     ]
    },
    {
     "data": {
      "image/png": "[encoded data removed]",
      "text/plain": [
       "<Figure size 432x288 with 1 Axes>"
      ]
     },
     "metadata": {},
     "output_type": "display_data"
    },
    {
     "name": "stdout",
     "output_type": "stream",
     "text": [
      "PREDICTION:  6\n"
     ]
    },
    {
     "data": {
      "image/png": "[encoded data removed]",
      "text/plain": [
       "<Figure size 432x288 with 1 Axes>"
      ]
     },
     "metadata": {},
     "output_type": "display_data"
    },
    {
     "name": "stdout",
     "output_type": "stream",
     "text": [
      "PREDICTION:  6\n"
     ]
    },
    {
     "data": {
      "image/png": "[encoded data removed]",
      "text/plain": [
       "<Figure size 432x288 with 1 Axes>"
      ]
     },
     "metadata": {},
     "output_type": "display_data"
    },
    {
     "name": "stdout",
     "output_type": "stream",
     "text": [
      "PREDICTION:  6\n"
     ]
    },
    {
     "data": {
      "image/png": "[encoded data removed]",
      "text/plain": [
       "<Figure size 432x288 with 1 Axes>"
      ]
     },
     "metadata": {},
     "output_type": "display_data"
    },
    {
     "name": "stdout",
     "output_type": "stream",
     "text": [
      "PREDICTION:  6\n"
     ]
    },
    {
     "data": {
      "image/png": "[encoded data removed]",
      "text/plain": [
       "<Figure size 432x288 with 1 Axes>"
      ]
     },
     "metadata": {},
     "output_type": "display_data"
    },
    {
     "name": "stdout",
     "output_type": "stream",
     "text": [
      "PREDICTION:  6\n"
     ]
    },
    {
     "data": {
      "image/png": "[encoded data removed]",
      "text/plain": [
       "<Figure size 432x288 with 1 Axes>"
      ]
     },
     "metadata": {},
     "output_type": "display_data"
    },
    {
     "name": "stdout",
     "output_type": "stream",
     "text": [
      "PREDICTION:  6\n"
     ]
    },
    {
     "data": {
      "image/png": "[encoded data removed]",
      "text/plain": [
       "<Figure size 432x288 with 1 Axes>"
      ]
     },
     "metadata": {},
     "output_type": "display_data"
    },
    {
     "name": "stdout",
     "output_type": "stream",
     "text": [
      "PREDICTION:  6\n"
     ]
    },
    {
     "data": {
      "image/png": "[encoded data removed]",
      "text/plain": [
       "<Figure size 432x288 with 1 Axes>"
      ]
     },
     "metadata": {},
     "output_type": "display_data"
    },
    {
     "name": "stdout",
     "output_type": "stream",
     "text": [
      "PREDICTION:  6\n"
     ]
    },
    {
     "data": {
      "image/png": "[encoded data removed]",
      "text/plain": [
       "<Figure size 432x288 with 1 Axes>"
      ]
     },
     "metadata": {},
     "output_type": "display_data"
    },
    {
     "name": "stdout",
     "output_type": "stream",
     "text": [
      "PREDICTION:  6\n"
     ]
    },
    {
     "data": {
      "image/png": "[encoded data removed]",
      "text/plain": [
       "<Figure size 432x288 with 1 Axes>"
      ]
     },
     "metadata": {},
     "output_type": "display_data"
    },
    {
     "name": "stdout",
     "output_type": "stream",
     "text": [
      "PREDICTION:  6\n"
     ]
    },
    {
     "data": {
      "image/png": "[encoded data removed]",
      "text/plain": [
       "<Figure size 432x288 with 1 Axes>"
      ]
     },
     "metadata": {},
     "output_type": "display_data"
    },
    {
     "name": "stdout",
     "output_type": "stream",
     "text": [
      "PREDICTION:  6\n"
     ]
    },
    {
     "data": {
      "image/png": "[encoded data removed]",
      "text/plain": [
       "<Figure size 432x288 with 1 Axes>"
      ]
     },
     "metadata": {},
     "output_type": "display_data"
    },
    {
     "name": "stdout",
     "output_type": "stream",
     "text": [
      "PREDICTION:  6\n"
     ]
    },
    {
     "data": {
      "image/png": "[encoded data removed]",
      "text/plain": [
       "<Figure size 432x288 with 1 Axes>"
      ]
     },
     "metadata": {},
     "output_type": "display_data"
    },
    {
     "name": "stdout",
     "output_type": "stream",
     "text": [
      "PREDICTION:  6\n"
     ]
    },
    {
     "data": {
      "image/png": "[encoded data removed]",
      "text/plain": [
       "<Figure size 432x288 with 1 Axes>"
      ]
     },
     "metadata": {},
     "output_type": "display_data"
    },
    {
     "name": "stdout",
     "output_type": "stream",
     "text": [
      "PREDICTION:  6\n"
     ]
    },
    {
     "data": {
      "image/png": "[encoded data removed]",
      "text/plain": [
       "<Figure size 432x288 with 1 Axes>"
      ]
     },
     "metadata": {},
     "output_type": "display_data"
    },
    {
     "name": "stdout",
     "output_type": "stream",
     "text": [
      "PREDICTION:  6\n"
     ]
    },
    {
     "data": {
      "image/png": "[encoded data removed]",
      "text/plain": [
       "<Figure size 432x288 with 1 Axes>"
      ]
     },
     "metadata": {},
     "output_type": "display_data"
    }
   ],
   "source": [
    "#Inspect data when prediction=6 and label=5\n",
    "label_miss = 5\n",
    "prediction_miss = 6\n",
    "for i in range(10000):\n",
    "    if prediction[i] == prediction_miss and y_test[i] == label_miss:\n",
    "        print('PREDICTION: ', prediction[i])\n",
    "        plt.title('LABEL: {label}'.format(label=y_test[i]))\n",
    "        plt.imshow(x_test[i], cmap='gray')\n",
    "        plt.show()"
   ]
  },
  {
   "cell_type": "code",
   "execution_count": null,
   "metadata": {},
   "outputs": [],
   "source": [
    "#change"
   ]
  }
 ],
 "metadata": {
  "kernelspec": {
   "display_name": "Python 3",
   "language": "python",
   "name": "python3"
  },
  "language_info": {
   "codemirror_mode": {
    "name": "ipython",
    "version": 3
   },
   "file_extension": ".py",
   "mimetype": "text/x-python",
   "name": "python",
   "nbconvert_exporter": "python",
   "pygments_lexer": "ipython3",
   "version": "3.6.4"
  }
 },
 "nbformat": 4,
 "nbformat_minor": 2
}
