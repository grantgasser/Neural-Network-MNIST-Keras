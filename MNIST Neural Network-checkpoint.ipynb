{
 "cells": [
  {
   "cell_type": "markdown",
   "metadata": {},
   "source": [
    "### Simple Neural Network for MNIST data"
   ]
  },
  {
   "cell_type": "code",
   "execution_count": 3,
   "metadata": {},
   "outputs": [],
   "source": [
    "import matplotlib.pyplot as plt\n",
    "import numpy as np\n",
    "import keras, random, math\n",
    "from keras.datasets import mnist\n",
    "from keras.models import Sequential\n",
    "from keras.layers import Dense, Activation, Dropout\n",
    "from keras.regularizers import l2\n",
    "\n",
    "#NP warning\n",
    "import warnings\n",
    "warnings.filterwarnings('ignore')"
   ]
  },
  {
   "cell_type": "markdown",
   "metadata": {},
   "source": [
    "### Import and view the MNIST written digits"
   ]
  },
  {
   "cell_type": "code",
   "execution_count": 4,
   "metadata": {},
   "outputs": [],
   "source": [
    "(x_train, y_train), (x_test, y_test) = mnist.load_data()"
   ]
  },
  {
   "cell_type": "code",
   "execution_count": 5,
   "metadata": {},
   "outputs": [
    {
     "name": "stdout",
     "output_type": "stream",
     "text": [
      "Number of images (digits):  60000\n",
      "Dimenions of X:  28 x 28\n"
     ]
    }
   ],
   "source": [
    "print('Number of images (digits): ', x_train.shape[0]) \n",
    "print('Dimensions of X: ', x_train.shape[1], 'x', x_train.shape[2])"
   ]
  },
  {
   "cell_type": "code",
   "execution_count": 6,
   "metadata": {},
   "outputs": [
    {
     "data": {
      "image/png": "[encoded data removed]",
      "text/plain": [
       "<Figure size 432x288 with 1 Axes>"
      ]
     },
     "metadata": {},
     "output_type": "display_data"
    },
    {
     "data": {
      "image/png": "[encoded data removed]",
      "text/plain": [
       "<Figure size 432x288 with 1 Axes>"
      ]
     },
     "metadata": {},
     "output_type": "display_data"
    },
    {
     "data": {
      "image/png": "[encoded data removed]",
      "text/plain": [
       "<Figure size 432x288 with 1 Axes>"
      ]
     },
     "metadata": {},
     "output_type": "display_data"
    }
   ],
   "source": [
    "for i in range(3): \n",
    "    plt.title('LABEL: {label}'.format(label=y_train[i]))\n",
    "    plt.imshow(x_train[i], cmap='gray')\n",
    "    plt.show()"
   ]
  },
  {
   "cell_type": "markdown",
   "metadata": {},
   "source": [
    "### The network:\n",
    "* x = 28x28 = 784\n",
    "* 50, 30, 30, 10 units in the respective layers (tinkering)\n",
    "* $L_2$ Norm regularization\n",
    "* $ReLU = max(0, W^Tx)$ activation function\n",
    "* Softmax the output layer, gives a probability distribution over the classes\n",
    "    * $\\sigma(z) =  \\frac{e^{z_j}}{\\sum_{k=1}^{K} e^{z_k}}$\n",
    "* Loss function:\n",
    "    * Categorical cross entropy\n",
    "* Adam optimizer, sometimes works better than gradient descent, and measuring accuracy"
   ]
  },
  {
   "cell_type": "code",
   "execution_count": 11,
   "metadata": {},
   "outputs": [],
   "source": [
    "# 28x28 = 784\n",
    "model = Sequential([Dense(50, input_shape=(784,), W_regularizer=l2(.005)), \n",
    "                       Activation('relu'),\n",
    "                       Dense(30),\n",
    "                       Activation('relu'),\n",
    "                       Dense(30),\n",
    "                       Activation('relu'),\n",
    "                       Dense(10),\n",
    "                       Activation('softmax'),\n",
    "])\n",
    "\n",
    "model.compile(optimizer='adam', loss='categorical_crossentropy', metrics=['accuracy'])"
   ]
  },
  {
   "cell_type": "markdown",
   "metadata": {},
   "source": [
    "### Re-format data to 1-hot encoding, unroll the data"
   ]
  },
  {
   "cell_type": "code",
   "execution_count": 12,
   "metadata": {},
   "outputs": [],
   "source": [
    "y_train_hot = keras.utils.to_categorical(y_train, num_classes=10)\n",
    "\n",
    "#test if one-hot worked, should have a one in the 6th place to represent 5\n",
    "#y_train_hot[0]\n",
    "\n",
    "x_train_unroll = x_train.reshape(60000, 784)\n",
    "x_test_unroll = x_test.reshape(10000, 784)"
   ]
  },
  {
   "cell_type": "markdown",
   "metadata": {},
   "source": [
    "### Train neural network with training data, 10 iterations through entire dataset"
   ]
  },
  {
   "cell_type": "code",
   "execution_count": 13,
   "metadata": {},
   "outputs": [
    {
     "name": "stdout",
     "output_type": "stream",
     "text": [
      "Epoch 1/10\n",
      "60000/60000 [==============================] - 4s 72us/step - loss: 4.6750 - acc: 0.6908\n",
      "Epoch 2/10\n",
      "60000/60000 [==============================] - 7s 114us/step - loss: 0.8461 - acc: 0.8914\n",
      "Epoch 3/10\n",
      "60000/60000 [==============================] - 7s 111us/step - loss: 0.4664 - acc: 0.9221\n",
      "Epoch 4/10\n",
      "60000/60000 [==============================] - 6s 103us/step - loss: 0.3551 - acc: 0.9351\n",
      "Epoch 5/10\n",
      "60000/60000 [==============================] - 6s 103us/step - loss: 0.3013 - acc: 0.9429\n",
      "Epoch 6/10\n",
      "60000/60000 [==============================] - 6s 106us/step - loss: 0.2763 - acc: 0.9468\n",
      "Epoch 7/10\n",
      "60000/60000 [==============================] - 7s 116us/step - loss: 0.2626 - acc: 0.9490\n",
      "Epoch 8/10\n",
      "60000/60000 [==============================] - 8s 135us/step - loss: 0.2485 - acc: 0.9519\n",
      "Epoch 9/10\n",
      "60000/60000 [==============================] - 9s 148us/step - loss: 0.2382 - acc: 0.9549\n",
      "Epoch 10/10\n",
      "60000/60000 [==============================] - 9s 155us/step - loss: 0.2384 - acc: 0.9540\n"
     ]
    },
    {
     "data": {
      "text/plain": [
       "<keras.callbacks.History at 0x24fa1772668>"
      ]
     },
     "execution_count": 13,
     "metadata": {},
     "output_type": "execute_result"
    }
   ],
   "source": [
    "model.fit(x_train_unroll, y_train_hot, epochs=10)"
   ]
  },
  {
   "cell_type": "markdown",
   "metadata": {},
   "source": [
    "### Use model to make predictions"
   ]
  },
  {
   "cell_type": "code",
   "execution_count": 14,
   "metadata": {},
   "outputs": [],
   "source": [
    "prediction_hot = model.predict(x_test_unroll)\n",
    "prediction = []\n",
    "\n",
    "#convert from one-hot to regular\n",
    "for line in prediction_hot:\n",
    "    prediction.append(np.argmax(line))"
   ]
  },
  {
   "cell_type": "markdown",
   "metadata": {},
   "source": [
    "### View predictions and labels"
   ]
  },
  {
   "cell_type": "code",
   "execution_count": 15,
   "metadata": {},
   "outputs": [
    {
     "name": "stdout",
     "output_type": "stream",
     "text": [
      "PREDICTION:  3\n"
     ]
    },
    {
     "data": {
      "image/png": "[encoded data removed]",
      "text/plain": [
       "<Figure size 432x288 with 1 Axes>"
      ]
     },
     "metadata": {},
     "output_type": "display_data"
    },
    {
     "name": "stdout",
     "output_type": "stream",
     "text": [
      "PREDICTION:  8\n"
     ]
    },
    {
     "data": {
      "image/png": "[encoded data removed]",
      "text/plain": [
       "<Figure size 432x288 with 1 Axes>"
      ]
     },
     "metadata": {},
     "output_type": "display_data"
    },
    {
     "name": "stdout",
     "output_type": "stream",
     "text": [
      "PREDICTION:  9\n"
     ]
    },
    {
     "data": {
      "image/png": "[encoded data removed]",
      "text/plain": [
       "<Figure size 432x288 with 1 Axes>"
      ]
     },
     "metadata": {},
     "output_type": "display_data"
    },
    {
     "name": "stdout",
     "output_type": "stream",
     "text": [
      "PREDICTION:  5\n"
     ]
    },
    {
     "data": {
      "image/png": "[encoded data removed]",
      "text/plain": [
       "<Figure size 432x288 with 1 Axes>"
      ]
     },
     "metadata": {},
     "output_type": "display_data"
    },
    {
     "name": "stdout",
     "output_type": "stream",
     "text": [
      "PREDICTION:  3\n"
     ]
    },
    {
     "data": {
      "image/png": "[encoded data removed]",
      "text/plain": [
       "<Figure size 432x288 with 1 Axes>"
      ]
     },
     "metadata": {},
     "output_type": "display_data"
    }
   ],
   "source": [
    "#pick random pictures\n",
    "num = math.ceil(random.uniform(1,9995))\n",
    "\n",
    "for i in range(num, num+5):\n",
    "    print('PREDICTION: ', prediction[i])\n",
    "    plt.title('LABEL: {label}'.format(label=y_test[i]))\n",
    "    plt.imshow(x_test[i], cmap='gray')\n",
    "    plt.show()"
   ]
  },
  {
   "cell_type": "markdown",
   "metadata": {},
   "source": [
    "### Evaluate model"
   ]
  },
  {
   "cell_type": "code",
   "execution_count": 20,
   "metadata": {},
   "outputs": [
    {
     "name": "stdout",
     "output_type": "stream",
     "text": [
      "9015\n",
      "Test Prediction Accuracy:  90.14999999999999 %\n"
     ]
    }
   ],
   "source": [
    "correct = 0\n",
    "incorrect = 0\n",
    "\n",
    "for i in prediction:\n",
    "    if prediction[i] == y_test[i]:\n",
    "        correct += 1\n",
    "    else:\n",
    "        incorrect += 1\n",
    "        #print(prediction[i], '!=', y_test[i])\n",
    "\n",
    "accuracy = correct / y_test.shape[0]\n",
    "\n",
    "print(correct)\n",
    "print('Test Prediction Accuracy: ', accuracy * 100, '%')"
   ]
  },
  {
   "cell_type": "markdown",
   "metadata": {},
   "source": [
    "### Inspect most common error\n",
    "* The errors seemed to make sense. Some people have shoddy handwriting. Cut the poor computer some slack."
   ]
  },
  {
   "cell_type": "code",
   "execution_count": 19,
   "metadata": {},
   "outputs": [
    {
     "name": "stdout",
     "output_type": "stream",
     "text": [
      "PREDICTION:  6\n"
     ]
    },
    {
     "data": {
      "image/png": "[encoded data removed]",
      "text/plain": [
       "<Figure size 432x288 with 1 Axes>"
      ]
     },
     "metadata": {},
     "output_type": "display_data"
    },
    {
     "name": "stdout",
     "output_type": "stream",
     "text": [
      "PREDICTION:  6\n"
     ]
    },
    {
     "data": {
      "image/png": "[encoded data removed]",
      "text/plain": [
       "<Figure size 432x288 with 1 Axes>"
      ]
     },
     "metadata": {},
     "output_type": "display_data"
    },
    {
     "name": "stdout",
     "output_type": "stream",
     "text": [
      "PREDICTION:  6\n"
     ]
    },
    {
     "data": {
      "image/png": "[encoded data removed]",
      "text/plain": [
       "<Figure size 432x288 with 1 Axes>"
      ]
     },
     "metadata": {},
     "output_type": "display_data"
    },
    {
     "name": "stdout",
     "output_type": "stream",
     "text": [
      "PREDICTION:  6\n"
     ]
    },
    {
     "data": {
      "image/png": "[encoded data removed]",
      "text/plain": [
       "<Figure size 432x288 with 1 Axes>"
      ]
     },
     "metadata": {},
     "output_type": "display_data"
    },
    {
     "name": "stdout",
     "output_type": "stream",
     "text": [
      "PREDICTION:  6\n"
     ]
    },
    {
     "data": {
      "image/png": "[encoded data removed]",
      "text/plain": [
       "<Figure size 432x288 with 1 Axes>"
      ]
     },
     "metadata": {},
     "output_type": "display_data"
    },
    {
     "name": "stdout",
     "output_type": "stream",
     "text": [
      "PREDICTION:  6\n"
     ]
    },
    {
     "data": {
      "image/png": "[encoded data removed]",
      "text/plain": [
       "<Figure size 432x288 with 1 Axes>"
      ]
     },
     "metadata": {},
     "output_type": "display_data"
    },
    {
     "name": "stdout",
     "output_type": "stream",
     "text": [
      "PREDICTION:  6\n"
     ]
    },
    {
     "data": {
      "image/png": "[encoded data removed]",
      "text/plain": [
       "<Figure size 432x288 with 1 Axes>"
      ]
     },
     "metadata": {},
     "output_type": "display_data"
    },
    {
     "name": "stdout",
     "output_type": "stream",
     "text": [
      "PREDICTION:  6\n"
     ]
    },
    {
     "data": {
      "image/png": "[encoded data removed]",
      "text/plain": [
       "<Figure size 432x288 with 1 Axes>"
      ]
     },
     "metadata": {},
     "output_type": "display_data"
    }
   ],
   "source": [
    "#Inspect data when prediction=6 and label=5\n",
    "label_miss = 5\n",
    "prediction_miss = 6\n",
    "for i in range(10000):\n",
    "    if prediction[i] == prediction_miss and y_test[i] == label_miss:\n",
    "        print('PREDICTION: ', prediction[i])\n",
    "        plt.title('LABEL: {label}'.format(label=y_test[i]))\n",
    "        plt.imshow(x_test[i], cmap='gray')\n",
    "        plt.show()"
   ]
  },
  {
   "cell_type": "markdown",
   "metadata": {},
   "source": [
    "### Summary\n",
    "* 95 % accuracy on traing set\n",
    "* 90 % accuraccy on test set\n",
    "* Common misclassifications\n",
    "    * 6 and 5"
   ]
  },
  {
   "cell_type": "code",
   "execution_count": null,
   "metadata": {},
   "outputs": [],
   "source": []
  }
 ],
 "metadata": {
  "kernelspec": {
   "display_name": "Python 3",
   "language": "python",
   "name": "python3"
  },
  "language_info": {
   "codemirror_mode": {
    "name": "ipython",
    "version": 3
   },
   "file_extension": ".py",
   "mimetype": "text/x-python",
   "name": "python",
   "nbconvert_exporter": "python",
   "pygments_lexer": "ipython3",
   "version": "3.6.4"
  }
 },
 "nbformat": 4,
 "nbformat_minor": 2
}
